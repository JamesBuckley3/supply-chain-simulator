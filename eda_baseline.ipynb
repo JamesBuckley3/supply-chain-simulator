{
 "cells": [
  {
   "cell_type": "markdown",
   "id": "c8363bd2",
   "metadata": {},
   "source": [
    "# `eda_baseline.ipynb`"
   ]
  },
  {
   "cell_type": "markdown",
   "id": "aceb1c46",
   "metadata": {},
   "source": [
    "Purpose: Quick, structured overview of the dataset — no heavy modelling"
   ]
  },
  {
   "cell_type": "markdown",
   "id": "ca69b440",
   "metadata": {},
   "source": [
    "## Setup:"
   ]
  },
  {
   "cell_type": "markdown",
   "id": "0e2676e2",
   "metadata": {},
   "source": [
    "### 1. Install and load libraries"
   ]
  },
  {
   "cell_type": "code",
   "execution_count": 1,
   "id": "9baf9e53",
   "metadata": {
    "vscode": {
     "languageId": "r"
    }
   },
   "outputs": [
    {
     "name": "stderr",
     "output_type": "stream",
     "text": [
      "Installing packages into 'C:/Users/James/AppData/Local/R/win-library/4.5'\n",
      "(as 'lib' is unspecified)\n",
      "\n"
     ]
    },
    {
     "name": "stdout",
     "output_type": "stream",
     "text": [
      "package 'tidyverse' successfully unpacked and MD5 sums checked\n",
      "package 'readr' successfully unpacked and MD5 sums checked\n"
     ]
    },
    {
     "name": "stderr",
     "output_type": "stream",
     "text": [
      "Warning message:\n",
      "\"cannot remove prior installation of package 'readr'\"\n",
      "Warning message in file.copy(savedcopy, lib, recursive = TRUE):\n",
      "\"problem copying C:\\Users\\James\\AppData\\Local\\R\\win-library\\4.5\\00LOCK\\readr\\libs\\x64\\readr.dll to C:\\Users\\James\\AppData\\Local\\R\\win-library\\4.5\\readr\\libs\\x64\\readr.dll: Permission denied\"\n",
      "Warning message:\n",
      "\"restored 'readr'\"\n"
     ]
    },
    {
     "name": "stdout",
     "output_type": "stream",
     "text": [
      "package 'lubridate' successfully unpacked and MD5 sums checked\n"
     ]
    },
    {
     "name": "stderr",
     "output_type": "stream",
     "text": [
      "Warning message:\n",
      "\"cannot remove prior installation of package 'lubridate'\"\n",
      "Warning message in file.copy(savedcopy, lib, recursive = TRUE):\n",
      "\"problem copying C:\\Users\\James\\AppData\\Local\\R\\win-library\\4.5\\00LOCK\\lubridate\\libs\\x64\\lubridate.dll to C:\\Users\\James\\AppData\\Local\\R\\win-library\\4.5\\lubridate\\libs\\x64\\lubridate.dll: Permission denied\"\n",
      "Warning message:\n",
      "\"restored 'lubridate'\"\n"
     ]
    },
    {
     "name": "stdout",
     "output_type": "stream",
     "text": [
      "package 'janitor' successfully unpacked and MD5 sums checked\n",
      "\n",
      "The downloaded binary packages are in\n",
      "\tC:\\Users\\James\\AppData\\Local\\Temp\\RtmpKofgWL\\downloaded_packages\n"
     ]
    }
   ],
   "source": [
    "install.packages(c(\"tidyverse\", \"readr\", \"lubridate\", \"janitor\"))"
   ]
  },
  {
   "cell_type": "code",
   "execution_count": 2,
   "id": "2a1cb36c",
   "metadata": {
    "vscode": {
     "languageId": "r"
    }
   },
   "outputs": [
    {
     "name": "stderr",
     "output_type": "stream",
     "text": [
      "Warning message:\n",
      "\"package 'tidyverse' was built under R version 4.5.1\"\n",
      "Warning message:\n",
      "\"package 'ggplot2' was built under R version 4.5.1\"\n",
      "Warning message:\n",
      "\"package 'tibble' was built under R version 4.5.1\"\n",
      "Warning message:\n",
      "\"package 'tidyr' was built under R version 4.5.1\"\n",
      "Warning message:\n",
      "\"package 'readr' was built under R version 4.5.1\"\n",
      "Warning message:\n",
      "\"package 'purrr' was built under R version 4.5.1\"\n",
      "Warning message:\n",
      "\"package 'dplyr' was built under R version 4.5.1\"\n",
      "Warning message:\n",
      "\"package 'stringr' was built under R version 4.5.1\"\n",
      "Warning message:\n",
      "\"package 'forcats' was built under R version 4.5.1\"\n",
      "Warning message:\n",
      "\"package 'lubridate' was built under R version 4.5.1\"\n",
      "── \u001b[1mAttaching core tidyverse packages\u001b[22m ──────────────────────── tidyverse 2.0.0 ──\n",
      "\u001b[32m✔\u001b[39m \u001b[34mdplyr    \u001b[39m 1.1.4     \u001b[32m✔\u001b[39m \u001b[34mreadr    \u001b[39m 2.1.5\n",
      "\u001b[32m✔\u001b[39m \u001b[34mforcats  \u001b[39m 1.0.0     \u001b[32m✔\u001b[39m \u001b[34mstringr  \u001b[39m 1.5.1\n",
      "\u001b[32m✔\u001b[39m \u001b[34mggplot2  \u001b[39m 3.5.2     \u001b[32m✔\u001b[39m \u001b[34mtibble   \u001b[39m 3.3.0\n",
      "\u001b[32m✔\u001b[39m \u001b[34mlubridate\u001b[39m 1.9.4     \u001b[32m✔\u001b[39m \u001b[34mtidyr    \u001b[39m 1.3.1\n",
      "\u001b[32m✔\u001b[39m \u001b[34mpurrr    \u001b[39m 1.1.0     \n",
      "── \u001b[1mConflicts\u001b[22m ────────────────────────────────────────── tidyverse_conflicts() ──\n",
      "\u001b[31m✖\u001b[39m \u001b[34mdplyr\u001b[39m::\u001b[32mfilter()\u001b[39m masks \u001b[34mstats\u001b[39m::filter()\n",
      "\u001b[31m✖\u001b[39m \u001b[34mdplyr\u001b[39m::\u001b[32mlag()\u001b[39m    masks \u001b[34mstats\u001b[39m::lag()\n",
      "\u001b[36mℹ\u001b[39m Use the conflicted package (\u001b[3m\u001b[34m<http://conflicted.r-lib.org/>\u001b[39m\u001b[23m) to force all conflicts to become errors\n",
      "Warning message:\n",
      "\"package 'janitor' was built under R version 4.5.1\"\n",
      "\n",
      "Attaching package: 'janitor'\n",
      "\n",
      "\n",
      "The following objects are masked from 'package:stats':\n",
      "\n",
      "    chisq.test, fisher.test\n",
      "\n",
      "\n"
     ]
    }
   ],
   "source": [
    "library(tidyverse)\n",
    "library(readr)\n",
    "library(lubridate)\n",
    "library(janitor)"
   ]
  },
  {
   "cell_type": "markdown",
   "id": "f4dac446",
   "metadata": {},
   "source": [
    "### 2. Load data"
   ]
  },
  {
   "cell_type": "code",
   "execution_count": 3,
   "id": "cf9aa65e",
   "metadata": {
    "vscode": {
     "languageId": "r"
    }
   },
   "outputs": [
    {
     "name": "stderr",
     "output_type": "stream",
     "text": [
      "\u001b[1mRows: \u001b[22m\u001b[34m20129\u001b[39m \u001b[1mColumns: \u001b[22m\u001b[34m4\u001b[39m\n",
      "\u001b[36m──\u001b[39m \u001b[1mColumn specification\u001b[22m \u001b[36m────────────────────────────────────────────────────────\u001b[39m\n",
      "\u001b[1mDelimiter:\u001b[22m \",\"\n",
      "\u001b[31mchr\u001b[39m  (1): order_status\n",
      "\u001b[32mdbl\u001b[39m  (2): order_id, customer_id\n",
      "\u001b[34mdate\u001b[39m (1): order_date\n",
      "\n",
      "\u001b[36mℹ\u001b[39m Use `spec()` to retrieve the full column specification for this data.\n",
      "\u001b[36mℹ\u001b[39m Specify the column types or set `show_col_types = FALSE` to quiet this message.\n",
      "\u001b[1mRows: \u001b[22m\u001b[34m60847\u001b[39m \u001b[1mColumns: \u001b[22m\u001b[34m7\u001b[39m\n",
      "\u001b[36m──\u001b[39m \u001b[1mColumn specification\u001b[22m \u001b[36m────────────────────────────────────────────────────────\u001b[39m\n",
      "\u001b[1mDelimiter:\u001b[22m \",\"\n",
      "\u001b[32mdbl\u001b[39m  (6): order_item_id, order_id, item_id, supplier_id, quantity, fulfilled...\n",
      "\u001b[34mdate\u001b[39m (1): fulfilled_date\n",
      "\n",
      "\u001b[36mℹ\u001b[39m Use `spec()` to retrieve the full column specification for this data.\n",
      "\u001b[36mℹ\u001b[39m Specify the column types or set `show_col_types = FALSE` to quiet this message.\n",
      "\u001b[1mRows: \u001b[22m\u001b[34m50\u001b[39m \u001b[1mColumns: \u001b[22m\u001b[34m4\u001b[39m\n",
      "\u001b[36m──\u001b[39m \u001b[1mColumn specification\u001b[22m \u001b[36m────────────────────────────────────────────────────────\u001b[39m\n",
      "\u001b[1mDelimiter:\u001b[22m \",\"\n",
      "\u001b[31mchr\u001b[39m (2): name, category\n",
      "\u001b[32mdbl\u001b[39m (2): item_id, unit_price\n",
      "\n",
      "\u001b[36mℹ\u001b[39m Use `spec()` to retrieve the full column specification for this data.\n",
      "\u001b[36mℹ\u001b[39m Specify the column types or set `show_col_types = FALSE` to quiet this message.\n",
      "\u001b[1mRows: \u001b[22m\u001b[34m10\u001b[39m \u001b[1mColumns: \u001b[22m\u001b[34m3\u001b[39m\n",
      "\u001b[36m──\u001b[39m \u001b[1mColumn specification\u001b[22m \u001b[36m────────────────────────────────────────────────────────\u001b[39m\n",
      "\u001b[1mDelimiter:\u001b[22m \",\"\n",
      "\u001b[31mchr\u001b[39m (2): name, category\n",
      "\u001b[32mdbl\u001b[39m (1): supplier_id\n",
      "\n",
      "\u001b[36mℹ\u001b[39m Use `spec()` to retrieve the full column specification for this data.\n",
      "\u001b[36mℹ\u001b[39m Specify the column types or set `show_col_types = FALSE` to quiet this message.\n",
      "\u001b[1mRows: \u001b[22m\u001b[34m200\u001b[39m \u001b[1mColumns: \u001b[22m\u001b[34m3\u001b[39m\n",
      "\u001b[36m──\u001b[39m \u001b[1mColumn specification\u001b[22m \u001b[36m────────────────────────────────────────────────────────\u001b[39m\n",
      "\u001b[1mDelimiter:\u001b[22m \",\"\n",
      "\u001b[31mchr\u001b[39m (2): name, region\n",
      "\u001b[32mdbl\u001b[39m (1): customer_id\n",
      "\n",
      "\u001b[36mℹ\u001b[39m Use `spec()` to retrieve the full column specification for this data.\n",
      "\u001b[36mℹ\u001b[39m Specify the column types or set `show_col_types = FALSE` to quiet this message.\n",
      "\u001b[1mRows: \u001b[22m\u001b[34m99900\u001b[39m \u001b[1mColumns: \u001b[22m\u001b[34m7\u001b[39m\n",
      "\u001b[36m──\u001b[39m \u001b[1mColumn specification\u001b[22m \u001b[36m────────────────────────────────────────────────────────\u001b[39m\n",
      "\u001b[1mDelimiter:\u001b[22m \",\"\n",
      "\u001b[32mdbl\u001b[39m  (6): item_id, supplier_id, quantity_on_hand, restock_weight, fulfillmen...\n",
      "\u001b[34mdttm\u001b[39m (1): timestamp\n",
      "\n",
      "\u001b[36mℹ\u001b[39m Use `spec()` to retrieve the full column specification for this data.\n",
      "\u001b[36mℹ\u001b[39m Specify the column types or set `show_col_types = FALSE` to quiet this message.\n",
      "\u001b[1mRows: \u001b[22m\u001b[34m63405\u001b[39m \u001b[1mColumns: \u001b[22m\u001b[34m9\u001b[39m\n",
      "\u001b[36m──\u001b[39m \u001b[1mColumn specification\u001b[22m \u001b[36m────────────────────────────────────────────────────────\u001b[39m\n",
      "\u001b[1mDelimiter:\u001b[22m \",\"\n",
      "\u001b[31mchr\u001b[39m  (1): failure_reason\n",
      "\u001b[32mdbl\u001b[39m  (6): order_id, item_id, supplier_id, requested_qty, previously_fulfille...\n",
      "\u001b[33mlgl\u001b[39m  (1): success\n",
      "\u001b[34mdttm\u001b[39m (1): timestamp\n",
      "\n",
      "\u001b[36mℹ\u001b[39m Use `spec()` to retrieve the full column specification for this data.\n",
      "\u001b[36mℹ\u001b[39m Specify the column types or set `show_col_types = FALSE` to quiet this message.\n"
     ]
    }
   ],
   "source": [
    "# Read core tables\n",
    "orders <- read_csv(\"data/orders.csv\")\n",
    "order_items <- read_csv(\"data/order_items.csv\")\n",
    "items <- read_csv(\"data/items.csv\")\n",
    "suppliers <- read_csv(\"data/suppliers.csv\")\n",
    "customers <- read_csv(\"data/customers.csv\")\n",
    "inventory_history <- read_csv(\"data/inventory_history.csv\")\n",
    "fulfillment_log <- read_csv(\"data/fulfillment_log.csv\")"
   ]
  },
  {
   "cell_type": "markdown",
   "id": "87ab0a80",
   "metadata": {},
   "source": [
    "### 3. Glimpsing at Data and Cleanliness Check"
   ]
  },
  {
   "cell_type": "code",
   "execution_count": 4,
   "id": "50e7abcf",
   "metadata": {
    "vscode": {
     "languageId": "r"
    }
   },
   "outputs": [
    {
     "name": "stdout",
     "output_type": "stream",
     "text": [
      "Rows: 20,129\n",
      "Columns: 4\n",
      "$ order_id     \u001b[3m\u001b[90m<dbl>\u001b[39m\u001b[23m 25\u001b[90m, \u001b[39m74\u001b[90m, \u001b[39m86\u001b[90m, \u001b[39m46\u001b[90m, \u001b[39m58\u001b[90m, \u001b[39m1\u001b[90m, \u001b[39m97\u001b[90m, \u001b[39m4\u001b[90m, \u001b[39m2\u001b[90m, \u001b[39m87\u001b[90m, \u001b[39m7\u001b[90m, \u001b[39m13\u001b[90m, \u001b[39m21\u001b[90m, \u001b[39m18\u001b[90m, \u001b[39m10\u001b[90m, \u001b[39m2…\n",
      "$ customer_id  \u001b[3m\u001b[90m<dbl>\u001b[39m\u001b[23m 123\u001b[90m, \u001b[39m88\u001b[90m, \u001b[39m146\u001b[90m, \u001b[39m142\u001b[90m, \u001b[39m90\u001b[90m, \u001b[39m110\u001b[90m, \u001b[39m82\u001b[90m, \u001b[39m177\u001b[90m, \u001b[39m90\u001b[90m, \u001b[39m138\u001b[90m, \u001b[39m138\u001b[90m, \u001b[39m111\u001b[90m, \u001b[39m1…\n",
      "$ order_date   \u001b[3m\u001b[90m<date>\u001b[39m\u001b[23m 2025-08-01\u001b[90m, \u001b[39m2025-08-02\u001b[90m, \u001b[39m2025-08-02\u001b[90m, \u001b[39m2025-08-02\u001b[90m, \u001b[39m2025-08-…\n",
      "$ order_status \u001b[3m\u001b[90m<chr>\u001b[39m\u001b[23m \"fulfilled\"\u001b[90m, \u001b[39m\"fulfilled\"\u001b[90m, \u001b[39m\"fulfilled\"\u001b[90m, \u001b[39m\"fulfilled\"\u001b[90m, \u001b[39m\"fulf…\n"
     ]
    },
    {
     "data": {
      "text/plain": [
       " order_item_id      order_id        item_id       supplier_id    \n",
       " Min.   :    1   Min.   :    1   Min.   : 1.00   Min.   : 1.000  \n",
       " 1st Qu.:15212   1st Qu.: 5035   1st Qu.:13.00   1st Qu.: 3.000  \n",
       " Median :30424   Median :10101   Median :25.00   Median : 6.000  \n",
       " Mean   :30424   Mean   :10081   Mean   :25.46   Mean   : 5.431  \n",
       " 3rd Qu.:45636   3rd Qu.:15110   3rd Qu.:38.00   3rd Qu.: 8.000  \n",
       " Max.   :60847   Max.   :20129   Max.   :50.00   Max.   :10.000  \n",
       "                                                                 \n",
       "    quantity    fulfilled_quantity fulfilled_date      \n",
       " Min.   :1.00   Min.   :0.000      Min.   :2025-08-01  \n",
       " 1st Qu.:2.00   1st Qu.:1.000      1st Qu.:2025-11-04  \n",
       " Median :3.00   Median :3.000      Median :2026-02-08  \n",
       " Mean   :3.01   Mean   :2.518      Mean   :2026-02-07  \n",
       " 3rd Qu.:4.00   3rd Qu.:4.000      3rd Qu.:2026-05-14  \n",
       " Max.   :5.00   Max.   :5.000      Max.   :2026-08-17  \n",
       "                                   NA's   :9352        "
      ]
     },
     "metadata": {},
     "output_type": "display_data"
    },
    {
     "data": {
      "text/html": [
       "<table class=\"dataframe\">\n",
       "<caption>A tabyl: 5 × 3</caption>\n",
       "<thead>\n",
       "\t<tr><th scope=col>category</th><th scope=col>n</th><th scope=col>percent</th></tr>\n",
       "\t<tr><th scope=col>&lt;chr&gt;</th><th scope=col>&lt;int&gt;</th><th scope=col>&lt;dbl&gt;</th></tr>\n",
       "</thead>\n",
       "<tbody>\n",
       "\t<tr><td>Clothing   </td><td>2</td><td>0.2</td></tr>\n",
       "\t<tr><td>Electronics</td><td>2</td><td>0.2</td></tr>\n",
       "\t<tr><td>Food       </td><td>2</td><td>0.2</td></tr>\n",
       "\t<tr><td>Hardware   </td><td>2</td><td>0.2</td></tr>\n",
       "\t<tr><td>Medical    </td><td>2</td><td>0.2</td></tr>\n",
       "</tbody>\n",
       "</table>\n"
      ],
      "text/latex": [
       "A tabyl: 5 × 3\n",
       "\\begin{tabular}{lll}\n",
       " category & n & percent\\\\\n",
       " <chr> & <int> & <dbl>\\\\\n",
       "\\hline\n",
       "\t Clothing    & 2 & 0.2\\\\\n",
       "\t Electronics & 2 & 0.2\\\\\n",
       "\t Food        & 2 & 0.2\\\\\n",
       "\t Hardware    & 2 & 0.2\\\\\n",
       "\t Medical     & 2 & 0.2\\\\\n",
       "\\end{tabular}\n"
      ],
      "text/markdown": [
       "\n",
       "A tabyl: 5 × 3\n",
       "\n",
       "| category &lt;chr&gt; | n &lt;int&gt; | percent &lt;dbl&gt; |\n",
       "|---|---|---|\n",
       "| Clothing    | 2 | 0.2 |\n",
       "| Electronics | 2 | 0.2 |\n",
       "| Food        | 2 | 0.2 |\n",
       "| Hardware    | 2 | 0.2 |\n",
       "| Medical     | 2 | 0.2 |\n",
       "\n"
      ],
      "text/plain": [
       "  category    n percent\n",
       "1 Clothing    2 0.2    \n",
       "2 Electronics 2 0.2    \n",
       "3 Food        2 0.2    \n",
       "4 Hardware    2 0.2    \n",
       "5 Medical     2 0.2    "
      ]
     },
     "metadata": {},
     "output_type": "display_data"
    },
    {
     "data": {
      "text/html": [
       "<table class=\"dataframe\">\n",
       "<caption>A spec_tbl_df: 5 × 2</caption>\n",
       "<thead>\n",
       "\t<tr><th scope=col>category</th><th scope=col>n</th></tr>\n",
       "\t<tr><th scope=col>&lt;chr&gt;</th><th scope=col>&lt;int&gt;</th></tr>\n",
       "</thead>\n",
       "<tbody>\n",
       "\t<tr><td>Electronics</td><td>13</td></tr>\n",
       "\t<tr><td>Food       </td><td>12</td></tr>\n",
       "\t<tr><td>Clothing   </td><td>11</td></tr>\n",
       "\t<tr><td>Medical    </td><td>10</td></tr>\n",
       "\t<tr><td>Hardware   </td><td> 4</td></tr>\n",
       "</tbody>\n",
       "</table>\n"
      ],
      "text/latex": [
       "A spec\\_tbl\\_df: 5 × 2\n",
       "\\begin{tabular}{ll}\n",
       " category & n\\\\\n",
       " <chr> & <int>\\\\\n",
       "\\hline\n",
       "\t Electronics & 13\\\\\n",
       "\t Food        & 12\\\\\n",
       "\t Clothing    & 11\\\\\n",
       "\t Medical     & 10\\\\\n",
       "\t Hardware    &  4\\\\\n",
       "\\end{tabular}\n"
      ],
      "text/markdown": [
       "\n",
       "A spec_tbl_df: 5 × 2\n",
       "\n",
       "| category &lt;chr&gt; | n &lt;int&gt; |\n",
       "|---|---|\n",
       "| Electronics | 13 |\n",
       "| Food        | 12 |\n",
       "| Clothing    | 11 |\n",
       "| Medical     | 10 |\n",
       "| Hardware    |  4 |\n",
       "\n"
      ],
      "text/plain": [
       "  category    n \n",
       "1 Electronics 13\n",
       "2 Food        12\n",
       "3 Clothing    11\n",
       "4 Medical     10\n",
       "5 Hardware     4"
      ]
     },
     "metadata": {},
     "output_type": "display_data"
    }
   ],
   "source": [
    "glimpse(orders)\n",
    "summary(order_items)\n",
    "suppliers %>% tabyl(category)\n",
    "items %>% count(category) %>% arrange(desc(n))"
   ]
  },
  {
   "cell_type": "markdown",
   "id": "a623feec",
   "metadata": {},
   "source": [
    "## Basic EDA"
   ]
  },
  {
   "cell_type": "markdown",
   "id": "0b9a4d7d",
   "metadata": {},
   "source": [
    "### 1. Order Status Overview"
   ]
  },
  {
   "cell_type": "code",
   "execution_count": 5,
   "id": "cc0f722a",
   "metadata": {
    "vscode": {
     "languageId": "r"
    }
   },
   "outputs": [
    {
     "data": {
      "image/png": "[encoded data removed]",
      "text/plain": [
       "plot without title"
      ]
     },
     "metadata": {
      "image/png": {
       "height": 420,
       "width": 420
      }
     },
     "output_type": "display_data"
    }
   ],
   "source": [
    "orders %>%\n",
    "  count(order_status) %>%\n",
    "  ggplot(aes(x = reorder(order_status, n), y = n, fill = order_status)) +\n",
    "  geom_col() +\n",
    "  coord_flip() +\n",
    "  labs(title = \"Order Status Breakdown\", x = \"Order Status\", y = \"Count\") +\n",
    "  theme_minimal()"
   ]
  },
  {
   "cell_type": "markdown",
   "id": "0d788df2",
   "metadata": {},
   "source": [
    "Not many orders flat out expired (no items within the order were fulfilled). I'll combine those in the next plot with the 'partial - expired' orders. I'll also combine the 'unfulfilled' and 'partial' orders as 'Ongoing' as they're not of particular interest to our goal."
   ]
  },
  {
   "cell_type": "markdown",
   "id": "d0a83d76",
   "metadata": {},
   "source": [
    "### 2. Order Items Fulfillment Success"
   ]
  },
  {
   "cell_type": "code",
   "execution_count": 6,
   "id": "70037514",
   "metadata": {
    "vscode": {
     "languageId": "r"
    }
   },
   "outputs": [
    {
     "data": {
      "image/png": "[encoded data removed]",
      "text/plain": [
       "plot without title"
      ]
     },
     "metadata": {
      "image/png": {
       "height": 420,
       "width": 420
      }
     },
     "output_type": "display_data"
    }
   ],
   "source": [
    "# Get the cutoff date\n",
    "cutoff_date <- max(orders$order_date, na.rm = TRUE) - days(14)\n",
    "\n",
    "order_items %>%\n",
    "  left_join(orders, by = \"order_id\") %>%\n",
    "  mutate(\n",
    "    fulfillment_status = case_when(\n",
    "      fulfilled_quantity == quantity ~ \"Fulfilled\",\n",
    "      order_date <= cutoff_date      ~ \"Failed\",     # not fully fulfilled & too old\n",
    "      TRUE                           ~ \"Ongoing\"\n",
    "    )\n",
    "  ) %>%\n",
    "  count(fulfillment_status) %>%\n",
    "  ggplot(aes(x = fulfillment_status, y = n, fill = fulfillment_status)) +\n",
    "  geom_col(width = 0.5) +\n",
    "  labs(\n",
    "    title = \"Order Items by Fulfillment Outcome\",\n",
    "    x = \"Status\",\n",
    "    y = \"Count\"\n",
    "  ) +\n",
    "  theme_minimal()\n"
   ]
  },
  {
   "cell_type": "markdown",
   "id": "71c18694",
   "metadata": {},
   "source": [
    "I'll exclude those 'Ongoing' orders in our modelling notebook and focus on mostly those 'Failed' orders to see what went wrong from the suppliers perspective."
   ]
  },
  {
   "cell_type": "markdown",
   "id": "85850908",
   "metadata": {},
   "source": [
    "### 3. Fulfillment Attempt Successes"
   ]
  },
  {
   "cell_type": "code",
   "execution_count": 7,
   "id": "c52607bb",
   "metadata": {
    "vscode": {
     "languageId": "r"
    }
   },
   "outputs": [
    {
     "data": {
      "image/png": "[encoded data removed]",
      "text/plain": [
       "plot without title"
      ]
     },
     "metadata": {
      "image/png": {
       "height": 420,
       "width": 420
      }
     },
     "output_type": "display_data"
    }
   ],
   "source": [
    "fulfillment_log %>%\n",
    "  count(failure_reason, sort = TRUE) %>%\n",
    "  ggplot(aes(x = reorder(is.na(failure_reason), n), y = n)) +\n",
    "  geom_col(fill = \"firebrick\") +\n",
    "  coord_flip() +\n",
    "  labs(title = \"Were Fulfillment Attempts Successful?\", x = \"Success\", y = \"Count\") +\n",
    "  theme_minimal()\n"
   ]
  },
  {
   "cell_type": "markdown",
   "id": "52d06a9f",
   "metadata": {},
   "source": [
    "Most fulfillment attempts within the simulation were successful, but there are a good amount of unsuccessful attempts to work with."
   ]
  }
 ],
 "metadata": {
  "kernelspec": {
   "display_name": "R",
   "language": "R",
   "name": "ir"
  },
  "language_info": {
   "codemirror_mode": "r",
   "file_extension": ".r",
   "mimetype": "text/x-r-source",
   "name": "R",
   "pygments_lexer": "r",
   "version": "4.5.0"
  }
 },
 "nbformat": 4,
 "nbformat_minor": 5
}
