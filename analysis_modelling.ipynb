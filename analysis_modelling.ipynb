{
 "cells": [
  {
   "cell_type": "markdown",
   "id": "8090e2a6",
   "metadata": {},
   "source": [
    "# `analysis_modelling.ipynb`"
   ]
  },
  {
   "cell_type": "markdown",
   "id": "25f3f535",
   "metadata": {},
   "source": [
    "The goal of this notebook is to answer the question:\n",
    "\n",
    "**\"How many customer orders go partially or fully unfulfilled - and what inventory or supplier-related factors are driving these failures?\"**"
   ]
  },
  {
   "cell_type": "markdown",
   "id": "dde3eb8a",
   "metadata": {},
   "source": [
    "## Setup"
   ]
  },
  {
   "cell_type": "markdown",
   "id": "1233e517",
   "metadata": {},
   "source": [
    "### Install and Load Libraries"
   ]
  },
  {
   "cell_type": "code",
   "execution_count": null,
   "id": "4e550c8d",
   "metadata": {
    "vscode": {
     "languageId": "r"
    }
   },
   "outputs": [
    {
     "name": "stderr",
     "output_type": "stream",
     "text": [
      "Installing packages into 'C:/Users/James/AppData/Local/R/win-library/4.5'\n",
      "(as 'lib' is unspecified)\n",
      "\n",
      "Warning message:\n",
      "\"package 'splines' is a base package, and should not be updated\"\n"
     ]
    },
    {
     "name": "stdout",
     "output_type": "stream",
     "text": [
      "package 'tidyverse' successfully unpacked and MD5 sums checked\n",
      "package 'lubridate' successfully unpacked and MD5 sums checked\n",
      "package 'janitor' successfully unpacked and MD5 sums checked\n",
      "package 'jsonlite' successfully unpacked and MD5 sums checked\n"
     ]
    },
    {
     "name": "stderr",
     "output_type": "stream",
     "text": [
      "Warning message:\n",
      "\"cannot remove prior installation of package 'jsonlite'\"\n",
      "Warning message in file.copy(savedcopy, lib, recursive = TRUE):\n",
      "\"problem copying C:\\Users\\James\\AppData\\Local\\R\\win-library\\4.5\\00LOCK\\jsonlite\\libs\\x64\\jsonlite.dll to C:\\Users\\James\\AppData\\Local\\R\\win-library\\4.5\\jsonlite\\libs\\x64\\jsonlite.dll: Permission denied\"\n",
      "Warning message:\n",
      "\"restored 'jsonlite'\"\n"
     ]
    },
    {
     "name": "stdout",
     "output_type": "stream",
     "text": [
      "package 'ggeffects' successfully unpacked and MD5 sums checked\n",
      "package 'randomForest' successfully unpacked and MD5 sums checked\n",
      "\n",
      "The downloaded binary packages are in\n",
      "\tC:\\Users\\James\\AppData\\Local\\Temp\\Rtmp4uhjUL\\downloaded_packages\n"
     ]
    }
   ],
   "source": [
    "install.packages(c(\"tidyverse\", \"lubridate\", \"janitor\", \"jsonlite\", \"ggeffects\", \"randomForest\", \"splines\"))"
   ]
  },
  {
   "cell_type": "code",
   "execution_count": null,
   "id": "d9e66345",
   "metadata": {
    "vscode": {
     "languageId": "r"
    }
   },
   "outputs": [
    {
     "name": "stderr",
     "output_type": "stream",
     "text": [
      "Warning message:\n",
      "\"package 'tidyverse' was built under R version 4.5.1\"\n",
      "Warning message:\n",
      "\"package 'ggplot2' was built under R version 4.5.1\"\n",
      "Warning message:\n",
      "\"package 'tibble' was built under R version 4.5.1\"\n",
      "Warning message:\n",
      "\"package 'tidyr' was built under R version 4.5.1\"\n",
      "Warning message:\n",
      "\"package 'readr' was built under R version 4.5.1\"\n",
      "Warning message:\n",
      "\"package 'purrr' was built under R version 4.5.1\"\n",
      "Warning message:\n",
      "\"package 'dplyr' was built under R version 4.5.1\"\n",
      "Warning message:\n",
      "\"package 'stringr' was built under R version 4.5.1\"\n",
      "Warning message:\n",
      "\"package 'forcats' was built under R version 4.5.1\"\n",
      "Warning message:\n",
      "\"package 'lubridate' was built under R version 4.5.1\"\n",
      "── \u001b[1mAttaching core tidyverse packages\u001b[22m ──────────────────────── tidyverse 2.0.0 ──\n",
      "\u001b[32m✔\u001b[39m \u001b[34mdplyr    \u001b[39m 1.1.4     \u001b[32m✔\u001b[39m \u001b[34mreadr    \u001b[39m 2.1.5\n",
      "\u001b[32m✔\u001b[39m \u001b[34mforcats  \u001b[39m 1.0.0     \u001b[32m✔\u001b[39m \u001b[34mstringr  \u001b[39m 1.5.1\n",
      "\u001b[32m✔\u001b[39m \u001b[34mggplot2  \u001b[39m 3.5.2     \u001b[32m✔\u001b[39m \u001b[34mtibble   \u001b[39m 3.3.0\n",
      "\u001b[32m✔\u001b[39m \u001b[34mlubridate\u001b[39m 1.9.4     \u001b[32m✔\u001b[39m \u001b[34mtidyr    \u001b[39m 1.3.1\n",
      "\u001b[32m✔\u001b[39m \u001b[34mpurrr    \u001b[39m 1.1.0     \n",
      "── \u001b[1mConflicts\u001b[22m ────────────────────────────────────────── tidyverse_conflicts() ──\n",
      "\u001b[31m✖\u001b[39m \u001b[34mdplyr\u001b[39m::\u001b[32mfilter()\u001b[39m masks \u001b[34mstats\u001b[39m::filter()\n",
      "\u001b[31m✖\u001b[39m \u001b[34mdplyr\u001b[39m::\u001b[32mlag()\u001b[39m    masks \u001b[34mstats\u001b[39m::lag()\n",
      "\u001b[36mℹ\u001b[39m Use the conflicted package (\u001b[3m\u001b[34m<http://conflicted.r-lib.org/>\u001b[39m\u001b[23m) to force all conflicts to become errors\n",
      "Warning message:\n",
      "\"package 'janitor' was built under R version 4.5.1\"\n",
      "\n",
      "Attaching package: 'janitor'\n",
      "\n",
      "\n",
      "The following objects are masked from 'package:stats':\n",
      "\n",
      "    chisq.test, fisher.test\n",
      "\n",
      "\n",
      "Warning message:\n",
      "\"package 'jsonlite' was built under R version 4.5.1\"\n",
      "\n",
      "Attaching package: 'jsonlite'\n",
      "\n",
      "\n",
      "The following object is masked from 'package:purrr':\n",
      "\n",
      "    flatten\n",
      "\n",
      "\n",
      "Warning message:\n",
      "\"package 'ggeffects' was built under R version 4.5.1\"\n",
      "Warning message:\n",
      "\"package 'randomForest' was built under R version 4.5.1\"\n",
      "randomForest 4.7-1.2\n",
      "\n",
      "Type rfNews() to see new features/changes/bug fixes.\n",
      "\n",
      "\n",
      "Attaching package: 'randomForest'\n",
      "\n",
      "\n",
      "The following object is masked from 'package:dplyr':\n",
      "\n",
      "    combine\n",
      "\n",
      "\n",
      "The following object is masked from 'package:ggplot2':\n",
      "\n",
      "    margin\n",
      "\n",
      "\n"
     ]
    }
   ],
   "source": [
    "library(tidyverse)\n",
    "library(lubridate)\n",
    "library(janitor)\n",
    "library(jsonlite)\n",
    "library(ggeffects)\n",
    "library(randomForest)\n",
    "library(splines)"
   ]
  },
  {
   "cell_type": "markdown",
   "id": "d1039d7c",
   "metadata": {},
   "source": [
    "### Load and Clean Data"
   ]
  },
  {
   "cell_type": "markdown",
   "id": "51603934",
   "metadata": {},
   "source": [
    "Our data (minus the customers table) is loaded in. The config JSON is also split into two separate dataframes relating to items and suppliers."
   ]
  },
  {
   "cell_type": "code",
   "execution_count": 4,
   "id": "47e52b59",
   "metadata": {
    "vscode": {
     "languageId": "r"
    }
   },
   "outputs": [
    {
     "name": "stderr",
     "output_type": "stream",
     "text": [
      "\u001b[1mRows: \u001b[22m\u001b[34m20129\u001b[39m \u001b[1mColumns: \u001b[22m\u001b[34m4\u001b[39m\n",
      "\u001b[36m──\u001b[39m \u001b[1mColumn specification\u001b[22m \u001b[36m────────────────────────────────────────────────────────\u001b[39m\n",
      "\u001b[1mDelimiter:\u001b[22m \",\"\n",
      "\u001b[31mchr\u001b[39m  (1): order_status\n",
      "\u001b[32mdbl\u001b[39m  (2): order_id, customer_id\n",
      "\u001b[34mdate\u001b[39m (1): order_date\n",
      "\n",
      "\u001b[36mℹ\u001b[39m Use `spec()` to retrieve the full column specification for this data.\n",
      "\u001b[36mℹ\u001b[39m Specify the column types or set `show_col_types = FALSE` to quiet this message.\n",
      "\u001b[1mRows: \u001b[22m\u001b[34m60847\u001b[39m \u001b[1mColumns: \u001b[22m\u001b[34m7\u001b[39m\n",
      "\u001b[36m──\u001b[39m \u001b[1mColumn specification\u001b[22m \u001b[36m────────────────────────────────────────────────────────\u001b[39m\n",
      "\u001b[1mDelimiter:\u001b[22m \",\"\n",
      "\u001b[32mdbl\u001b[39m  (6): order_item_id, order_id, item_id, supplier_id, quantity, fulfilled...\n",
      "\u001b[34mdate\u001b[39m (1): fulfilled_date\n",
      "\n",
      "\u001b[36mℹ\u001b[39m Use `spec()` to retrieve the full column specification for this data.\n",
      "\u001b[36mℹ\u001b[39m Specify the column types or set `show_col_types = FALSE` to quiet this message.\n",
      "\u001b[1mRows: \u001b[22m\u001b[34m50\u001b[39m \u001b[1mColumns: \u001b[22m\u001b[34m4\u001b[39m\n",
      "\u001b[36m──\u001b[39m \u001b[1mColumn specification\u001b[22m \u001b[36m────────────────────────────────────────────────────────\u001b[39m\n",
      "\u001b[1mDelimiter:\u001b[22m \",\"\n",
      "\u001b[31mchr\u001b[39m (2): name, category\n",
      "\u001b[32mdbl\u001b[39m (2): item_id, unit_price\n",
      "\n",
      "\u001b[36mℹ\u001b[39m Use `spec()` to retrieve the full column specification for this data.\n",
      "\u001b[36mℹ\u001b[39m Specify the column types or set `show_col_types = FALSE` to quiet this message.\n",
      "\u001b[1mRows: \u001b[22m\u001b[34m10\u001b[39m \u001b[1mColumns: \u001b[22m\u001b[34m3\u001b[39m\n",
      "\u001b[36m──\u001b[39m \u001b[1mColumn specification\u001b[22m \u001b[36m────────────────────────────────────────────────────────\u001b[39m\n",
      "\u001b[1mDelimiter:\u001b[22m \",\"\n",
      "\u001b[31mchr\u001b[39m (2): name, category\n",
      "\u001b[32mdbl\u001b[39m (1): supplier_id\n",
      "\n",
      "\u001b[36mℹ\u001b[39m Use `spec()` to retrieve the full column specification for this data.\n",
      "\u001b[36mℹ\u001b[39m Specify the column types or set `show_col_types = FALSE` to quiet this message.\n",
      "\u001b[1mRows: \u001b[22m\u001b[34m100\u001b[39m \u001b[1mColumns: \u001b[22m\u001b[34m5\u001b[39m\n",
      "\u001b[36m──\u001b[39m \u001b[1mColumn specification\u001b[22m \u001b[36m────────────────────────────────────────────────────────\u001b[39m\n",
      "\u001b[1mDelimiter:\u001b[22m \",\"\n",
      "\u001b[32mdbl\u001b[39m  (4): item_id, supplier_id, quantity_on_hand, reorder_point\n",
      "\u001b[34mdate\u001b[39m (1): last_updated\n",
      "\n",
      "\u001b[36mℹ\u001b[39m Use `spec()` to retrieve the full column specification for this data.\n",
      "\u001b[36mℹ\u001b[39m Specify the column types or set `show_col_types = FALSE` to quiet this message.\n",
      "\u001b[1mRows: \u001b[22m\u001b[34m99900\u001b[39m \u001b[1mColumns: \u001b[22m\u001b[34m7\u001b[39m\n",
      "\u001b[36m──\u001b[39m \u001b[1mColumn specification\u001b[22m \u001b[36m────────────────────────────────────────────────────────\u001b[39m\n",
      "\u001b[1mDelimiter:\u001b[22m \",\"\n",
      "\u001b[32mdbl\u001b[39m  (6): item_id, supplier_id, quantity_on_hand, restock_weight, fulfillmen...\n",
      "\u001b[34mdttm\u001b[39m (1): timestamp\n",
      "\n",
      "\u001b[36mℹ\u001b[39m Use `spec()` to retrieve the full column specification for this data.\n",
      "\u001b[36mℹ\u001b[39m Specify the column types or set `show_col_types = FALSE` to quiet this message.\n",
      "\u001b[1mRows: \u001b[22m\u001b[34m63405\u001b[39m \u001b[1mColumns: \u001b[22m\u001b[34m9\u001b[39m\n",
      "\u001b[36m──\u001b[39m \u001b[1mColumn specification\u001b[22m \u001b[36m────────────────────────────────────────────────────────\u001b[39m\n",
      "\u001b[1mDelimiter:\u001b[22m \",\"\n",
      "\u001b[31mchr\u001b[39m  (1): failure_reason\n",
      "\u001b[32mdbl\u001b[39m  (6): order_id, item_id, supplier_id, requested_qty, previously_fulfille...\n",
      "\u001b[33mlgl\u001b[39m  (1): success\n",
      "\u001b[34mdttm\u001b[39m (1): timestamp\n",
      "\n",
      "\u001b[36mℹ\u001b[39m Use `spec()` to retrieve the full column specification for this data.\n",
      "\u001b[36mℹ\u001b[39m Specify the column types or set `show_col_types = FALSE` to quiet this message.\n"
     ]
    }
   ],
   "source": [
    "# Core simulation outputs\n",
    "orders <- read_csv(\"data/orders.csv\") %>% clean_names()\n",
    "order_items <- read_csv(\"data/order_items.csv\") %>% clean_names()\n",
    "items <- read_csv(\"data/items.csv\") %>% clean_names()\n",
    "suppliers <- read_csv(\"data/suppliers.csv\") %>% clean_names()\n",
    "inventory <- read_csv(\"data/inventory.csv\") %>% clean_names()\n",
    "inventory_history <- read_csv(\"data/inventory_history.csv\") %>% clean_names()\n",
    "fulfillment_log <- read_csv(\"data/fulfillment_log.csv\") %>% clean_names()\n",
    "\n",
    "# Simulation config\n",
    "config <- fromJSON(\"data/simulation_config.json\")\n",
    "items_config <- as_tibble(config$items)\n",
    "suppliers_config <- as_tibble(config$suppliers)"
   ]
  },
  {
   "cell_type": "markdown",
   "id": "6502b2db",
   "metadata": {},
   "source": [
    "This transposes the JSON data into something more usable."
   ]
  },
  {
   "cell_type": "code",
   "execution_count": 5,
   "id": "bcfcc0c4",
   "metadata": {
    "vscode": {
     "languageId": "r"
    }
   },
   "outputs": [],
   "source": [
    "items_config <- config$items %>%\n",
    "  imap_dfr(~ as_tibble(.x) %>% mutate(item_id = as.integer(.y)))\n",
    "\n",
    "suppliers_config <- config$suppliers %>%\n",
    "  imap_dfr(~ as_tibble(.x) %>% mutate(supplier_id = as.integer(.y)))"
   ]
  },
  {
   "cell_type": "markdown",
   "id": "c8c6ec59",
   "metadata": {},
   "source": [
    "### Feature Construction"
   ]
  },
  {
   "cell_type": "markdown",
   "id": "7a804d70",
   "metadata": {},
   "source": [
    "This combines our orders and order_items data as well as adds an `item_status` column for future analysis. An additional dataframe that excludes ongoing orders (orders within the last 14 days of simulation end-time) is also created."
   ]
  },
  {
   "cell_type": "code",
   "execution_count": 6,
   "id": "08146673",
   "metadata": {
    "vscode": {
     "languageId": "r"
    }
   },
   "outputs": [],
   "source": [
    "cutoff_date <- max(orders$order_date, na.rm = TRUE) - days(14)\n",
    "\n",
    "order_item_details <- order_items %>%\n",
    "  left_join(orders, by = \"order_id\") %>%\n",
    "  mutate(\n",
    "    item_status = case_when(\n",
    "      fulfilled_quantity == quantity ~ \"Fulfilled\",\n",
    "      order_date <= cutoff_date      ~ \"Failed\",\n",
    "      TRUE                           ~ \"Ongoing\"\n",
    "    )\n",
    "  )\n",
    "\n",
    "\n",
    "order_item_modelling <- order_item_details %>%\n",
    "  filter(item_status != \"Ongoing\")\n"
   ]
  },
  {
   "cell_type": "markdown",
   "id": "6fb5f31b",
   "metadata": {},
   "source": [
    "This adds those item and supplier weights and failure rates from the config file to our orders that aren't ongoing."
   ]
  },
  {
   "cell_type": "code",
   "execution_count": 8,
   "id": "0680715a",
   "metadata": {
    "vscode": {
     "languageId": "r"
    }
   },
   "outputs": [],
   "source": [
    "order_item_augmented <- order_item_modelling %>%\n",
    "  left_join(items_config, by = \"item_id\") %>%\n",
    "  left_join(suppliers_config, by = \"supplier_id\", suffix = c(\"\", \"_supplier\")) %>%\n",
    "  rename(\n",
    "    item_failure_rate = failure_rate,\n",
    "    item_restock_weight = restock_weight,\n",
    "    supplier_failure_rate = failure_rate_supplier,\n",
    "    supplier_fulfillment_weight = fulfillment_weight\n",
    "  )\n"
   ]
  },
  {
   "cell_type": "markdown",
   "id": "e874baf6",
   "metadata": {},
   "source": [
    "### Feature Engineering"
   ]
  },
  {
   "cell_type": "markdown",
   "id": "af7ee8c9",
   "metadata": {},
   "source": [
    "It'll be useful for analysis to have averages of `quantity_on_hand` , `backlog_unfulfilled_qty` as well as a count of `stockouts` for each item and supplier pair."
   ]
  },
  {
   "cell_type": "code",
   "execution_count": 10,
   "id": "a8e6e71d",
   "metadata": {
    "vscode": {
     "languageId": "r"
    }
   },
   "outputs": [],
   "source": [
    "inventory_summary <- inventory_history %>%\n",
    "  group_by(item_id, supplier_id) %>%\n",
    "  summarise(\n",
    "    avg_quantity_on_hand = mean(quantity_on_hand, na.rm = TRUE),\n",
    "    avg_backlog = mean(backlog_unfulfilled_qty, na.rm = TRUE),\n",
    "    stockouts = sum(quantity_on_hand == 0),\n",
    "    .groups = \"drop\"\n",
    "  )\n",
    "\n",
    "# Join into the main order item table\n",
    "order_item_final <- order_item_augmented %>%\n",
    "  left_join(inventory_summary, by = c(\"item_id\", \"supplier_id\"))\n"
   ]
  },
  {
   "cell_type": "code",
   "execution_count": 12,
   "id": "b68ed6c1",
   "metadata": {
    "vscode": {
     "languageId": "r"
    }
   },
   "outputs": [
    {
     "name": "stdout",
     "output_type": "stream",
     "text": [
      "Rows: 59,820\n",
      "Columns: 23\n",
      "$ order_item_id               \u001b[3m\u001b[90m<dbl>\u001b[39m\u001b[23m 18041\u001b[90m, \u001b[39m18042\u001b[90m, \u001b[39m18043\u001b[90m, \u001b[39m38\u001b[90m, \u001b[39m2\u001b[90m, \u001b[39m30\u001b[90m, \u001b[39m14\u001b[90m, \u001b[39m42\u001b[90m, \u001b[39m7\u001b[90m,\u001b[39m…\n",
      "$ order_id                    \u001b[3m\u001b[90m<dbl>\u001b[39m\u001b[23m 5975\u001b[90m, \u001b[39m5975\u001b[90m, \u001b[39m5975\u001b[90m, \u001b[39m14\u001b[90m, \u001b[39m1\u001b[90m, \u001b[39m11\u001b[90m, \u001b[39m6\u001b[90m, \u001b[39m15\u001b[90m, \u001b[39m4\u001b[90m, \u001b[39m13\u001b[90m,\u001b[39m…\n",
      "$ item_id                     \u001b[3m\u001b[90m<dbl>\u001b[39m\u001b[23m 50\u001b[90m, \u001b[39m21\u001b[90m, \u001b[39m19\u001b[90m, \u001b[39m21\u001b[90m, \u001b[39m12\u001b[90m, \u001b[39m31\u001b[90m, \u001b[39m20\u001b[90m, \u001b[39m41\u001b[90m, \u001b[39m45\u001b[90m, \u001b[39m17\u001b[90m, \u001b[39m30…\n",
      "$ supplier_id                 \u001b[3m\u001b[90m<dbl>\u001b[39m\u001b[23m 3\u001b[90m, \u001b[39m8\u001b[90m, \u001b[39m8\u001b[90m, \u001b[39m3\u001b[90m, \u001b[39m7\u001b[90m, \u001b[39m5\u001b[90m, \u001b[39m9\u001b[90m, \u001b[39m7\u001b[90m, \u001b[39m5\u001b[90m, \u001b[39m2\u001b[90m, \u001b[39m1\u001b[90m, \u001b[39m1\u001b[90m, \u001b[39m8\u001b[90m, \u001b[39m6\u001b[90m, \u001b[39m…\n",
      "$ quantity                    \u001b[3m\u001b[90m<dbl>\u001b[39m\u001b[23m 4\u001b[90m, \u001b[39m4\u001b[90m, \u001b[39m4\u001b[90m, \u001b[39m5\u001b[90m, \u001b[39m3\u001b[90m, \u001b[39m2\u001b[90m, \u001b[39m3\u001b[90m, \u001b[39m4\u001b[90m, \u001b[39m5\u001b[90m, \u001b[39m3\u001b[90m, \u001b[39m3\u001b[90m, \u001b[39m2\u001b[90m, \u001b[39m5\u001b[90m, \u001b[39m5\u001b[90m, \u001b[39m…\n",
      "$ fulfilled_quantity          \u001b[3m\u001b[90m<dbl>\u001b[39m\u001b[23m 0\u001b[90m, \u001b[39m0\u001b[90m, \u001b[39m0\u001b[90m, \u001b[39m5\u001b[90m, \u001b[39m3\u001b[90m, \u001b[39m2\u001b[90m, \u001b[39m3\u001b[90m, \u001b[39m4\u001b[90m, \u001b[39m5\u001b[90m, \u001b[39m3\u001b[90m, \u001b[39m3\u001b[90m, \u001b[39m2\u001b[90m, \u001b[39m5\u001b[90m, \u001b[39m5\u001b[90m, \u001b[39m…\n",
      "$ fulfilled_date              \u001b[3m\u001b[90m<date>\u001b[39m\u001b[23m \u001b[31mNA\u001b[39m\u001b[90m, \u001b[39m\u001b[31mNA\u001b[39m\u001b[90m, \u001b[39m\u001b[31mNA\u001b[39m\u001b[90m, \u001b[39m2025-08-01\u001b[90m, \u001b[39m2025-08-01\u001b[90m, \u001b[39m2025-…\n",
      "$ customer_id                 \u001b[3m\u001b[90m<dbl>\u001b[39m\u001b[23m 77\u001b[90m, \u001b[39m77\u001b[90m, \u001b[39m77\u001b[90m, \u001b[39m23\u001b[90m, \u001b[39m110\u001b[90m, \u001b[39m1\u001b[90m, \u001b[39m57\u001b[90m, \u001b[39m93\u001b[90m, \u001b[39m177\u001b[90m, \u001b[39m111\u001b[90m, \u001b[39m…\n",
      "$ order_date                  \u001b[3m\u001b[90m<date>\u001b[39m\u001b[23m 2025-11-22\u001b[90m, \u001b[39m2025-11-22\u001b[90m, \u001b[39m2025-11-22\u001b[90m, \u001b[39m2025-…\n",
      "$ order_status                \u001b[3m\u001b[90m<chr>\u001b[39m\u001b[23m \"expired\"\u001b[90m, \u001b[39m\"expired\"\u001b[90m, \u001b[39m\"expired\"\u001b[90m, \u001b[39m\"fulfille…\n",
      "$ item_status                 \u001b[3m\u001b[90m<chr>\u001b[39m\u001b[23m \"Failed\"\u001b[90m, \u001b[39m\"Failed\"\u001b[90m, \u001b[39m\"Failed\"\u001b[90m, \u001b[39m\"Fulfilled\"\u001b[90m,\u001b[39m…\n",
      "$ name                        \u001b[3m\u001b[90m<chr>\u001b[39m\u001b[23m \"Sell\"\u001b[90m, \u001b[39m\"Hard\"\u001b[90m, \u001b[39m\"Manage\"\u001b[90m, \u001b[39m\"Hard\"\u001b[90m, \u001b[39m\"Reason\"…\n",
      "$ category                    \u001b[3m\u001b[90m<chr>\u001b[39m\u001b[23m \"Medical\"\u001b[90m, \u001b[39m\"Medical\"\u001b[90m, \u001b[39m\"Medical\"\u001b[90m, \u001b[39m\"Medical\"…\n",
      "$ unit_price                  \u001b[3m\u001b[90m<dbl>\u001b[39m\u001b[23m 26.66\u001b[90m, \u001b[39m31.81\u001b[90m, \u001b[39m9.09\u001b[90m, \u001b[39m31.81\u001b[90m, \u001b[39m14.88\u001b[90m, \u001b[39m8.85\u001b[90m, \u001b[39m40…\n",
      "$ item_failure_rate           \u001b[3m\u001b[90m<dbl>\u001b[39m\u001b[23m 0.43\u001b[90m, \u001b[39m0.24\u001b[90m, \u001b[39m0.03\u001b[90m, \u001b[39m0.24\u001b[90m, \u001b[39m0.17\u001b[90m, \u001b[39m0.25\u001b[90m, \u001b[39m0.22\u001b[90m, \u001b[39m…\n",
      "$ item_restock_weight         \u001b[3m\u001b[90m<dbl>\u001b[39m\u001b[23m 5.42\u001b[90m, \u001b[39m1.58\u001b[90m, \u001b[39m0.75\u001b[90m, \u001b[39m1.58\u001b[90m, \u001b[39m4.63\u001b[90m, \u001b[39m0.51\u001b[90m, \u001b[39m0.47\u001b[90m, \u001b[39m…\n",
      "$ name_supplier               \u001b[3m\u001b[90m<chr>\u001b[39m\u001b[23m \"Miller-Torres\"\u001b[90m, \u001b[39m\"Carlson LLC\"\u001b[90m, \u001b[39m\"Carlson L…\n",
      "$ category_supplier           \u001b[3m\u001b[90m<chr>\u001b[39m\u001b[23m \"Medical\"\u001b[90m, \u001b[39m\"Medical\"\u001b[90m, \u001b[39m\"Medical\"\u001b[90m, \u001b[39m\"Medical\"…\n",
      "$ supplier_failure_rate       \u001b[3m\u001b[90m<dbl>\u001b[39m\u001b[23m 0.37\u001b[90m, \u001b[39m0.33\u001b[90m, \u001b[39m0.33\u001b[90m, \u001b[39m0.37\u001b[90m, \u001b[39m0.02\u001b[90m, \u001b[39m0.22\u001b[90m, \u001b[39m0.12\u001b[90m, \u001b[39m…\n",
      "$ supplier_fulfillment_weight \u001b[3m\u001b[90m<dbl>\u001b[39m\u001b[23m 4.09\u001b[90m, \u001b[39m3.32\u001b[90m, \u001b[39m3.32\u001b[90m, \u001b[39m4.09\u001b[90m, \u001b[39m1.27\u001b[90m, \u001b[39m0.28\u001b[90m, \u001b[39m3.58\u001b[90m, \u001b[39m…\n",
      "$ avg_quantity_on_hand        \u001b[3m\u001b[90m<dbl>\u001b[39m\u001b[23m 26.244244\u001b[90m, \u001b[39m12.582583\u001b[90m, \u001b[39m6.943944\u001b[90m, \u001b[39m9.394394\u001b[90m, \u001b[39m…\n",
      "$ avg_backlog                 \u001b[3m\u001b[90m<dbl>\u001b[39m\u001b[23m 130.90190\u001b[90m, \u001b[39m140.66466\u001b[90m, \u001b[39m155.85485\u001b[90m, \u001b[39m163.62663…\n",
      "$ stockouts                   \u001b[3m\u001b[90m<int>\u001b[39m\u001b[23m 0\u001b[90m, \u001b[39m29\u001b[90m, \u001b[39m108\u001b[90m, \u001b[39m36\u001b[90m, \u001b[39m6\u001b[90m, \u001b[39m169\u001b[90m, \u001b[39m342\u001b[90m, \u001b[39m1\u001b[90m, \u001b[39m10\u001b[90m, \u001b[39m0\u001b[90m, \u001b[39m0\u001b[90m, \u001b[39m…\n"
     ]
    }
   ],
   "source": [
    "glimpse(order_item_final)"
   ]
  },
  {
   "cell_type": "markdown",
   "id": "c6ac7a73",
   "metadata": {},
   "source": [
    "Having the full `order_items` data with these new features from inventory history will prove useful."
   ]
  },
  {
   "cell_type": "markdown",
   "id": "785cc3d5",
   "metadata": {},
   "source": [
    "## Visual Diagnostics"
   ]
  },
  {
   "cell_type": "markdown",
   "id": "af351013",
   "metadata": {},
   "source": [
    "### Fulfillment Outcomes by the Main Levers\n",
    "\n",
    "The four main levers that can be tuned in `data_generator.py` before running the simulation are:\n",
    "\n",
    "- `supplier_fulfillment_weight` - used in the 'fulfill order' event to determine which supplier will attempt to fulfill an order\n",
    "- `supplier_failure_rate` - once a supplier is picked its failure rate is used to determine whether the attempt will be successful\n",
    "- `item_failure_rate` - used alongside the supplier failure rate for the same purpose\n",
    "- `item_restock_weight` - used to determine which item will be chosen during the 'restock' event where one supplier restocks an item\n",
    "\n",
    "Let's take a look at boxplots that show their relationships with fulfillment outcomes."
   ]
  },
  {
   "cell_type": "code",
   "execution_count": 15,
   "id": "ac014009",
   "metadata": {
    "vscode": {
     "languageId": "r"
    }
   },
   "outputs": [
    {
     "data": {
      "image/png": "[encoded data removed]",
      "text/plain": [
       "plot without title"
      ]
     },
     "metadata": {
      "image/png": {
       "height": 420,
       "width": 420
      }
     },
     "output_type": "display_data"
    }
   ],
   "source": [
    "ggplot(order_item_final, aes(x = item_status, y = supplier_failure_rate, fill = item_status)) +\n",
    "  geom_boxplot(alpha = 0.7) +\n",
    "  labs(title = \"Supplier Failure Rate by Fulfillment Outcome\")\n"
   ]
  },
  {
   "cell_type": "code",
   "execution_count": 16,
   "id": "1f0b116a",
   "metadata": {
    "vscode": {
     "languageId": "r"
    }
   },
   "outputs": [
    {
     "data": {
      "image/png": "[encoded data removed]",
      "text/plain": [
       "plot without title"
      ]
     },
     "metadata": {
      "image/png": {
       "height": 420,
       "width": 420
      }
     },
     "output_type": "display_data"
    }
   ],
   "source": [
    "ggplot(order_item_final, aes(x = item_status, y = supplier_fulfillment_weight, fill = item_status)) +\n",
    "  geom_boxplot(alpha = 0.7) +\n",
    "  labs(title = \"Supplier Fulfillment Weight by Fulfillment Outcome\")"
   ]
  },
  {
   "cell_type": "code",
   "execution_count": 17,
   "id": "aa1f986c",
   "metadata": {
    "vscode": {
     "languageId": "r"
    }
   },
   "outputs": [
    {
     "data": {
      "image/png": "[encoded data removed]",
      "text/plain": [
       "plot without title"
      ]
     },
     "metadata": {
      "image/png": {
       "height": 420,
       "width": 420
      }
     },
     "output_type": "display_data"
    }
   ],
   "source": [
    "ggplot(order_item_final, aes(x = item_status, y = item_failure_rate, fill = item_status)) +\n",
    "  geom_boxplot(alpha = 0.7) +\n",
    "  labs(title = \"Item Failure Rate by Fulfillment Outcome\")"
   ]
  },
  {
   "cell_type": "code",
   "execution_count": 18,
   "id": "8afea691",
   "metadata": {
    "vscode": {
     "languageId": "r"
    }
   },
   "outputs": [
    {
     "data": {
      "image/png": "[encoded data removed]",
      "text/plain": [
       "plot without title"
      ]
     },
     "metadata": {
      "image/png": {
       "height": 420,
       "width": 420
      }
     },
     "output_type": "display_data"
    }
   ],
   "source": [
    "ggplot(order_item_final, aes(x = item_status, y = item_restock_weight, fill = item_status)) +\n",
    "  geom_boxplot(alpha = 0.7) +\n",
    "  labs(title = \"Item Restock Weight by Fulfillment Outcome\")"
   ]
  },
  {
   "cell_type": "markdown",
   "id": "851b617a",
   "metadata": {},
   "source": [
    "From a visual perspective the biggest predictors here seem to be `supplier_failure_rate` (quite a difference in medians) and `item_restock_weight` (big difference in 1st quartile and median values). I'll also look at our new features created from `fulfillment_log.csv` and `inventory_history.csv` data to see how they relate to fulfillment outcomes."
   ]
  },
  {
   "cell_type": "markdown",
   "id": "400e83a9",
   "metadata": {},
   "source": [
    "### Fulfillment Outcomes by Inventory Strain Features"
   ]
  },
  {
   "cell_type": "code",
   "execution_count": 20,
   "id": "796f6d65",
   "metadata": {
    "vscode": {
     "languageId": "r"
    }
   },
   "outputs": [
    {
     "data": {
      "image/png": "[encoded data removed]",
      "text/plain": [
       "plot without title"
      ]
     },
     "metadata": {
      "image/png": {
       "height": 420,
       "width": 420
      }
     },
     "output_type": "display_data"
    }
   ],
   "source": [
    "ggplot(order_item_final, aes(x = item_status, y = avg_quantity_on_hand, fill = item_status)) +\n",
    "  geom_boxplot(alpha = 0.7) +\n",
    "  labs(title = \"Average Quantity on Hand by Fulfillment Outcome\", y = \"Average Backlog\")"
   ]
  },
  {
   "cell_type": "code",
   "execution_count": 21,
   "id": "c4d6b269",
   "metadata": {
    "vscode": {
     "languageId": "r"
    }
   },
   "outputs": [
    {
     "data": {
      "image/png": "[encoded data removed]",
      "text/plain": [
       "plot without title"
      ]
     },
     "metadata": {
      "image/png": {
       "height": 420,
       "width": 420
      }
     },
     "output_type": "display_data"
    }
   ],
   "source": [
    "ggplot(order_item_final, aes(x = item_status, y = stockouts, fill = item_status)) +\n",
    "  geom_boxplot(alpha = 0.7) +\n",
    "  labs(title = \"Number of Stockouts by Fulfillment Outcome\")"
   ]
  },
  {
   "cell_type": "code",
   "execution_count": 22,
   "id": "4fa5f56f",
   "metadata": {
    "vscode": {
     "languageId": "r"
    }
   },
   "outputs": [
    {
     "data": {
      "image/png": "[encoded data removed]",
      "text/plain": [
       "plot without title"
      ]
     },
     "metadata": {
      "image/png": {
       "height": 420,
       "width": 420
      }
     },
     "output_type": "display_data"
    }
   ],
   "source": [
    "ggplot(order_item_final, aes(x = item_status, y = avg_backlog, fill = item_status)) +\n",
    "  geom_boxplot(alpha = 0.7) +\n",
    "  labs(title = \"Average Backlog per Item by Fulfillment Outcome\")"
   ]
  },
  {
   "cell_type": "markdown",
   "id": "1fb29646",
   "metadata": {},
   "source": [
    "The most striking plot of these three is the `avg_quantity_on_hand` boxplot which shows quite a difference between the quantities on hand of items in orders that are fulfilled versus those that are failed."
   ]
  },
  {
   "cell_type": "markdown",
   "id": "397bccee",
   "metadata": {},
   "source": [
    "## Modelling"
   ]
  },
  {
   "cell_type": "markdown",
   "id": "2d7b0333",
   "metadata": {},
   "source": [
    "### Order Level Fulfillment Outcomes"
   ]
  },
  {
   "cell_type": "code",
   "execution_count": 23,
   "id": "5be48705",
   "metadata": {
    "vscode": {
     "languageId": "r"
    }
   },
   "outputs": [
    {
     "data": {
      "text/plain": [
       "\n",
       "Call:\n",
       "glm(formula = fulfilled_binary ~ item_failure_rate + item_restock_weight + \n",
       "    supplier_failure_rate + supplier_fulfillment_weight + avg_quantity_on_hand + \n",
       "    avg_backlog + stockouts, family = binomial(), data = order_item_final)\n",
       "\n",
       "Coefficients:\n",
       "                              Estimate Std. Error z value Pr(>|z|)    \n",
       "(Intercept)                  1.2496178  0.0487120  25.653   <2e-16 ***\n",
       "item_failure_rate            0.0407027  0.0618425   0.658   0.5104    \n",
       "item_restock_weight          0.0139946  0.0139269   1.005   0.3150    \n",
       "supplier_failure_rate       -0.0755647  0.0671287  -1.126   0.2603    \n",
       "supplier_fulfillment_weight -0.0045197  0.0061953  -0.730   0.4657    \n",
       "avg_quantity_on_hand        -0.0069563  0.0038351  -1.814   0.0697 .  \n",
       "avg_backlog                 -0.0035743  0.0003203 -11.158   <2e-16 ***\n",
       "stockouts                   -0.0003952  0.0002470  -1.600   0.1095    \n",
       "---\n",
       "Signif. codes:  0 '***' 0.001 '**' 0.01 '*' 0.05 '.' 0.1 ' ' 1\n",
       "\n",
       "(Dispersion parameter for binomial family taken to be 1)\n",
       "\n",
       "    Null deviance: 78020  on 59819  degrees of freedom\n",
       "Residual deviance: 76207  on 59812  degrees of freedom\n",
       "AIC: 76223\n",
       "\n",
       "Number of Fisher Scoring iterations: 4\n"
      ]
     },
     "metadata": {},
     "output_type": "display_data"
    }
   ],
   "source": [
    "order_item_final <- order_item_final %>%\n",
    "  mutate(fulfilled_binary = if_else(order_status == \"fulfilled\", 1, 0))\n",
    "\n",
    "logistic_fulfillment <- glm(\n",
    "  fulfilled_binary ~ item_failure_rate + item_restock_weight + supplier_failure_rate + supplier_fulfillment_weight + avg_quantity_on_hand + avg_backlog + stockouts,\n",
    "  data = order_item_final,\n",
    "  family = binomial()\n",
    ")\n",
    "\n",
    "summary(logistic_fulfillment)"
   ]
  },
  {
   "cell_type": "markdown",
   "id": "e96429d6",
   "metadata": {},
   "source": [
    "In relation to fulfillment outcomes this suggests the following:\n",
    "\n",
    "- Item and supplier failure rates are significant predictors\n",
    "- Higher `avg_backlog` strongly predicts non-fulfillment\n",
    "- Fulfillment and restock weights are not predictive\n",
    "\n",
    "I'll now run a model with interaction terms to further investigate these results."
   ]
  },
  {
   "cell_type": "code",
   "execution_count": 24,
   "id": "7760e048",
   "metadata": {
    "vscode": {
     "languageId": "r"
    }
   },
   "outputs": [
    {
     "data": {
      "text/plain": [
       "\n",
       "Call:\n",
       "glm(formula = fulfilled_binary ~ item_failure_rate * avg_backlog, \n",
       "    family = binomial(), data = order_item_final)\n",
       "\n",
       "Coefficients:\n",
       "                                Estimate Std. Error z value Pr(>|z|)    \n",
       "(Intercept)                    1.0748306  0.0527969  20.358   <2e-16 ***\n",
       "item_failure_rate              0.4408344  0.1990268   2.215   0.0268 *  \n",
       "avg_backlog                   -0.0032141  0.0003558  -9.035   <2e-16 ***\n",
       "item_failure_rate:avg_backlog -0.0026857  0.0012990  -2.068   0.0387 *  \n",
       "---\n",
       "Signif. codes:  0 '***' 0.001 '**' 0.01 '*' 0.05 '.' 0.1 ' ' 1\n",
       "\n",
       "(Dispersion parameter for binomial family taken to be 1)\n",
       "\n",
       "    Null deviance: 78020  on 59819  degrees of freedom\n",
       "Residual deviance: 76209  on 59816  degrees of freedom\n",
       "AIC: 76217\n",
       "\n",
       "Number of Fisher Scoring iterations: 4\n"
      ]
     },
     "metadata": {},
     "output_type": "display_data"
    }
   ],
   "source": [
    "logistic_fulfillment_interaction <- glm(\n",
    "    fulfilled_binary ~ item_failure_rate * avg_backlog, \n",
    "    data = order_item_final,\n",
    "    family = binomial()\n",
    ")\n",
    "\n",
    "summary(logistic_fulfillment_interaction)"
   ]
  },
  {
   "cell_type": "markdown",
   "id": "5a6eda58",
   "metadata": {},
   "source": [
    "This suggests that at low backlog - item failure rate won't hurt fulfillment outcomes much, but at high backlog the failure-prone items are much more likely to not be fulfilled. I'll visualise this."
   ]
  },
  {
   "cell_type": "code",
   "execution_count": 25,
   "id": "7a3dc85b",
   "metadata": {
    "vscode": {
     "languageId": "r"
    }
   },
   "outputs": [
    {
     "data": {
      "text/plain": [
       "   Min. 1st Qu.  Median    Mean 3rd Qu.    Max. \n",
       " 0.0200  0.1200  0.2400  0.2409  0.3800  0.5000 "
      ]
     },
     "metadata": {},
     "output_type": "display_data"
    },
    {
     "data": {
      "text/plain": [
       "   Min. 1st Qu.  Median    Mean 3rd Qu.    Max. \n",
       "  80.31  115.60  130.90  154.09  146.25  884.94 "
      ]
     },
     "metadata": {},
     "output_type": "display_data"
    }
   ],
   "source": [
    "summary(order_item_final$item_failure_rate)\n",
    "summary(order_item_final$avg_backlog)"
   ]
  },
  {
   "cell_type": "markdown",
   "id": "7f860621",
   "metadata": {},
   "source": [
    "I'll use these for the predictions/plot"
   ]
  },
  {
   "cell_type": "code",
   "execution_count": 26,
   "id": "96d5ea23",
   "metadata": {
    "vscode": {
     "languageId": "r"
    }
   },
   "outputs": [
    {
     "name": "stderr",
     "output_type": "stream",
     "text": [
      "Warning message:\n",
      "\"\u001b[1m\u001b[22mUsing `size` aesthetic for lines was deprecated in ggplot2 3.4.0.\n",
      "\u001b[36mℹ\u001b[39m Please use `linewidth` instead.\"\n"
     ]
    },
    {
     "data": {
      "image/png": "[encoded data removed]",
      "text/plain": [
       "plot without title"
      ]
     },
     "metadata": {
      "image/png": {
       "height": 420,
       "width": 420
      }
     },
     "output_type": "display_data"
    }
   ],
   "source": [
    "# Generate predicted probabilities\n",
    "preds <- ggpredict(logistic_fulfillment_interaction, terms = c(\"avg_backlog [80:900]\", \"item_failure_rate [0, 0.25, 0.5]\"))\n",
    "\n",
    "# Plot\n",
    "ggplot(preds, aes(x = x, y = predicted, color = group)) +\n",
    "  geom_line(size = 1.2) +\n",
    "  labs(\n",
    "    title = \"Interaction: Item Failure Rate × Backlog\",\n",
    "    subtitle = \"Predicted probability of fulfillment\",\n",
    "    x = \"Average Backlog\",\n",
    "    y = \"Probability of Fulfillment\",\n",
    "    color = \"Item Failure Rate\"\n",
    "  ) +\n",
    "  theme_minimal()\n"
   ]
  },
  {
   "cell_type": "markdown",
   "id": "3c2f7cba",
   "metadata": {},
   "source": [
    "It looks like the impact you'd expect `avg_backlog` to have on fulfillment success between the different item failure rates only becomes significant once you surpass around 200 items backlogged. This isn't too useful as it's only the high outliers that fall beyond that point. Most of the items have backlogs of less than 150 which the plot shows the behaviour to be opposite of what is expected."
   ]
  },
  {
   "cell_type": "code",
   "execution_count": 27,
   "id": "68dd31bf",
   "metadata": {
    "vscode": {
     "languageId": "r"
    }
   },
   "outputs": [
    {
     "data": {
      "image/png": "[encoded data removed]",
      "text/plain": [
       "plot without title"
      ]
     },
     "metadata": {
      "image/png": {
       "height": 420,
       "width": 420
      }
     },
     "output_type": "display_data"
    }
   ],
   "source": [
    "rf_fulfillment <- randomForest(\n",
    "  as.factor(fulfilled_binary) ~ item_failure_rate + supplier_failure_rate + \n",
    "    item_restock_weight + supplier_fulfillment_weight +\n",
    "    avg_quantity_on_hand + avg_backlog + stockouts,\n",
    "  data = order_item_final,\n",
    "  importance = TRUE\n",
    ")\n",
    "\n",
    "# Plot variable importance\n",
    "varImpPlot(rf_fulfillment)\n"
   ]
  },
  {
   "cell_type": "markdown",
   "id": "bc0d5a9f",
   "metadata": {},
   "source": [
    "As seen in the boxplots from the visual diagnostics section and the initial logistic regression model - the strongest predictors seem to be the constructed features that relate to inventory strain rather than the config variables relating to supplier and item specific weights. With this in mind I'll now look further into these strain features."
   ]
  },
  {
   "cell_type": "code",
   "execution_count": 28,
   "id": "c52498d0",
   "metadata": {
    "vscode": {
     "languageId": "r"
    }
   },
   "outputs": [],
   "source": [
    "order_level_df <- order_item_final %>%\n",
    "  group_by(order_id) %>%\n",
    "  summarise(\n",
    "    n_items = n(),\n",
    "    n_fulfilled = sum(fulfilled_binary),\n",
    "    percent_fulfilled = n_fulfilled / n_items,\n",
    "    order_fulfilled = as.integer(n_fulfilled == n_items),  # 1 if all items fulfilled\n",
    "    \n",
    "    avg_quantity_on_hand = mean(avg_quantity_on_hand),\n",
    "    avg_backlog = mean(avg_backlog, na.rm = TRUE),\n",
    "    total_stockouts = sum(stockouts, na.rm = TRUE),\n",
    "    \n",
    "    first_item_date = min(order_date),\n",
    "    .groups = \"drop\"\n",
    "  )\n"
   ]
  },
  {
   "cell_type": "code",
   "execution_count": 29,
   "id": "51a791b1",
   "metadata": {
    "vscode": {
     "languageId": "r"
    }
   },
   "outputs": [
    {
     "data": {
      "text/plain": [
       "\n",
       "Call:\n",
       "glm(formula = order_fulfilled ~ total_stockouts + avg_quantity_on_hand + \n",
       "    avg_backlog, family = binomial(), data = order_level_df)\n",
       "\n",
       "Coefficients:\n",
       "                       Estimate Std. Error z value Pr(>|z|)    \n",
       "(Intercept)           3.1725601  0.1132168  28.022   <2e-16 ***\n",
       "total_stockouts      -0.0050968  0.0001216 -41.919   <2e-16 ***\n",
       "avg_quantity_on_hand -0.0732029  0.0047954 -15.265   <2e-16 ***\n",
       "avg_backlog           0.0006579  0.0003478   1.892   0.0585 .  \n",
       "---\n",
       "Signif. codes:  0 '***' 0.001 '**' 0.01 '*' 0.05 '.' 0.1 ' ' 1\n",
       "\n",
       "(Dispersion parameter for binomial family taken to be 1)\n",
       "\n",
       "    Null deviance: 23402  on 19990  degrees of freedom\n",
       "Residual deviance: 19456  on 19987  degrees of freedom\n",
       "AIC: 19464\n",
       "\n",
       "Number of Fisher Scoring iterations: 4\n"
      ]
     },
     "metadata": {},
     "output_type": "display_data"
    }
   ],
   "source": [
    "logistic_order_level_fulfillment <- glm(\n",
    "  order_fulfilled ~ total_stockouts + avg_quantity_on_hand + avg_backlog,\n",
    "  data = order_level_df,\n",
    "  family = binomial()\n",
    ")\n",
    "\n",
    "summary(logistic_order_level_fulfillment)"
   ]
  },
  {
   "cell_type": "code",
   "execution_count": 30,
   "id": "9a65dfef",
   "metadata": {
    "vscode": {
     "languageId": "r"
    }
   },
   "outputs": [
    {
     "name": "stderr",
     "output_type": "stream",
     "text": [
      "\u001b[1m\u001b[22m`geom_smooth()` using formula = 'y ~ x'\n"
     ]
    },
    {
     "data": {
      "image/png": "[encoded data removed]",
      "text/plain": [
       "plot without title"
      ]
     },
     "metadata": {
      "image/png": {
       "height": 420,
       "width": 420
      }
     },
     "output_type": "display_data"
    }
   ],
   "source": [
    "order_level_df %>%\n",
    "  ggplot(aes(x = avg_quantity_on_hand, y = order_fulfilled)) +\n",
    "  geom_smooth(method = \"loess\") +\n",
    "  labs(title = \"Order Fulfillment vs Average Inventory\", y = \"Probability Fulfilled\")\n"
   ]
  },
  {
   "cell_type": "markdown",
   "id": "5f3c9847",
   "metadata": {},
   "source": [
    "Perhaps it'll be better to focus on the nonlinearity aspect of these results."
   ]
  },
  {
   "cell_type": "code",
   "execution_count": 31,
   "id": "9e4f18a5",
   "metadata": {
    "vscode": {
     "languageId": "r"
    }
   },
   "outputs": [
    {
     "data": {
      "text/plain": [
       "\n",
       "Call:\n",
       "glm(formula = order_fulfilled ~ poly(avg_quantity_on_hand, 2) + \n",
       "    total_stockouts + avg_backlog, family = binomial(), data = order_level_df)\n",
       "\n",
       "Coefficients:\n",
       "                                 Estimate Std. Error z value Pr(>|z|)    \n",
       "(Intercept)                     2.443e+00  6.446e-02  37.897  < 2e-16 ***\n",
       "poly(avg_quantity_on_hand, 2)1 -5.966e+01  3.915e+00 -15.241  < 2e-16 ***\n",
       "poly(avg_quantity_on_hand, 2)2  5.062e+01  3.477e+00  14.559  < 2e-16 ***\n",
       "total_stockouts                -4.274e-03  1.320e-04 -32.383  < 2e-16 ***\n",
       "avg_backlog                    -3.549e-03  4.642e-04  -7.644  2.1e-14 ***\n",
       "---\n",
       "Signif. codes:  0 '***' 0.001 '**' 0.01 '*' 0.05 '.' 0.1 ' ' 1\n",
       "\n",
       "(Dispersion parameter for binomial family taken to be 1)\n",
       "\n",
       "    Null deviance: 23402  on 19990  degrees of freedom\n",
       "Residual deviance: 19224  on 19986  degrees of freedom\n",
       "AIC: 19234\n",
       "\n",
       "Number of Fisher Scoring iterations: 4\n"
      ]
     },
     "metadata": {},
     "output_type": "display_data"
    }
   ],
   "source": [
    "nonlinear_fulfillment <- glm(\n",
    "  order_fulfilled ~ poly(avg_quantity_on_hand, 2) + total_stockouts + avg_backlog,\n",
    "  family = binomial(),\n",
    "  data = order_level_df\n",
    ")\n",
    "\n",
    "summary(nonlinear_fulfillment)"
   ]
  },
  {
   "cell_type": "markdown",
   "id": "ec3192dd",
   "metadata": {},
   "source": [
    "The U-Shape seems to be modelled well by the polynomial terms."
   ]
  },
  {
   "cell_type": "code",
   "execution_count": 32,
   "id": "c14d0598",
   "metadata": {
    "vscode": {
     "languageId": "r"
    }
   },
   "outputs": [
    {
     "data": {
      "text/plain": [
       "\n",
       "Call:\n",
       "glm(formula = order_fulfilled ~ ns(avg_quantity_on_hand, df = 4) + \n",
       "    total_stockouts + avg_backlog, family = binomial(), data = order_level_df)\n",
       "\n",
       "Coefficients:\n",
       "                                    Estimate Std. Error z value Pr(>|z|)    \n",
       "(Intercept)                        3.8146669  0.2448004  15.583  < 2e-16 ***\n",
       "ns(avg_quantity_on_hand, df = 4)1 -2.1641551  0.1921885 -11.261  < 2e-16 ***\n",
       "ns(avg_quantity_on_hand, df = 4)2 -2.2601800  0.1556823 -14.518  < 2e-16 ***\n",
       "ns(avg_quantity_on_hand, df = 4)3 -1.8962405  0.4364215  -4.345 1.39e-05 ***\n",
       "ns(avg_quantity_on_hand, df = 4)4 -0.3531245  0.1666932  -2.118   0.0341 *  \n",
       "total_stockouts                   -0.0049961  0.0001453 -34.387  < 2e-16 ***\n",
       "avg_backlog                       -0.0006751  0.0004880  -1.383   0.1666    \n",
       "---\n",
       "Signif. codes:  0 '***' 0.001 '**' 0.01 '*' 0.05 '.' 0.1 ' ' 1\n",
       "\n",
       "(Dispersion parameter for binomial family taken to be 1)\n",
       "\n",
       "    Null deviance: 23402  on 19990  degrees of freedom\n",
       "Residual deviance: 19040  on 19984  degrees of freedom\n",
       "AIC: 19054\n",
       "\n",
       "Number of Fisher Scoring iterations: 5\n"
      ]
     },
     "metadata": {},
     "output_type": "display_data"
    }
   ],
   "source": [
    "spline_fulfillment <- glm(\n",
    "  order_fulfilled ~ ns(avg_quantity_on_hand, df = 4) + total_stockouts + avg_backlog,\n",
    "  family = binomial(),\n",
    "  data = order_level_df\n",
    ")\n",
    "\n",
    "summary(spline_fulfillment)"
   ]
  },
  {
   "cell_type": "markdown",
   "id": "665f6c51",
   "metadata": {},
   "source": [
    "This spline model beats the quadractic polynomials model on fit and flexibility, but both capture the nonlinearity of `avg_quantity_on_hand` well."
   ]
  },
  {
   "cell_type": "code",
   "execution_count": 33,
   "id": "d31317dd",
   "metadata": {
    "vscode": {
     "languageId": "r"
    }
   },
   "outputs": [],
   "source": [
    "# Create a grid of avg_quantity_on_hand values from your actual range\n",
    "inventory_seq <- seq(min(order_level_df$avg_quantity_on_hand, na.rm = TRUE),\n",
    "                     max(order_level_df$avg_quantity_on_hand, na.rm = TRUE),\n",
    "                     length.out = 200)\n",
    "\n",
    "# Fix the other predictors at typical values (mean or median)\n",
    "mean_stockouts <- mean(order_level_df$total_stockouts, na.rm = TRUE)\n",
    "mean_backlog <- mean(order_level_df$avg_backlog, na.rm = TRUE)\n",
    "\n",
    "# Create new data for prediction\n",
    "prediction_df <- data.frame(\n",
    "  avg_quantity_on_hand = inventory_seq,\n",
    "  total_stockouts = mean_stockouts,\n",
    "  avg_backlog = mean_backlog\n",
    ")\n",
    "\n",
    "# Predict fulfillment probabilities\n",
    "prediction_df$predicted_prob <- predict(spline_fulfillment, newdata = prediction_df, type = \"response\")\n"
   ]
  },
  {
   "cell_type": "code",
   "execution_count": 34,
   "id": "9c60be0f",
   "metadata": {
    "vscode": {
     "languageId": "r"
    }
   },
   "outputs": [
    {
     "data": {
      "image/png": "[encoded data removed]",
      "text/plain": [
       "plot without title"
      ]
     },
     "metadata": {
      "image/png": {
       "height": 420,
       "width": 420
      }
     },
     "output_type": "display_data"
    }
   ],
   "source": [
    "ggplot(prediction_df, aes(x = avg_quantity_on_hand, y = predicted_prob)) +\n",
    "  geom_line(color = \"#0072B2\", size = 1.2) +\n",
    "  geom_rug(data = order_level_df, aes(x = avg_quantity_on_hand), \n",
    "           inherit.aes = FALSE, sides = \"b\", alpha = 0.1) +\n",
    "  labs(\n",
    "    title = \"Predicted Fulfillment vs Inventory\",\n",
    "    x = \"Average Quantity on Hand\",\n",
    "    y = \"Predicted Fulfillment Probability\"\n",
    "  ) +\n",
    "  theme_minimal()"
   ]
  },
  {
   "cell_type": "markdown",
   "id": "f59a6bb1",
   "metadata": {},
   "source": [
    "Order fulfillment probability decreases sharply as average inventory reaches moderate levels, before rising again with higher inventory. This confirms a nonlinear relationship that a linear model would miss.\n",
    "\n",
    "With `avg_quantity_on_hand` established as a key predictor of fulfillment success - it becomes a strong mediating variable which bridges underlying causes and fulfillment outcomes.\n",
    "\n",
    "The next phase is to ask:\n",
    "\n",
    "\"What factors drive average quantity on hand — and can they explain fulfillment failures upstream?\"\n",
    "\n",
    "Next I'll focus in on `supplier_id` and `item_id` pairs with averages taken for their `fulfilled_binary` outcomes, zoom out from the `order_items` data level."
   ]
  },
  {
   "cell_type": "markdown",
   "id": "c372825a",
   "metadata": {},
   "source": [
    "### Predicting `avg_quantity_on_hand`"
   ]
  },
  {
   "cell_type": "code",
   "execution_count": 53,
   "id": "49e2ce8d",
   "metadata": {
    "vscode": {
     "languageId": "r"
    }
   },
   "outputs": [],
   "source": [
    "supplier_item_df <- order_item_final %>%\n",
    "  select(-order_item_id, -order_id, -customer_id, -fulfilled_date,\n",
    "         -fulfilled_quantity, -quantity, -order_date,\n",
    "         -order_status, -item_status, -name, -category,\n",
    "         -name_supplier, -category_supplier, unit_price) %>%\n",
    "  group_by(supplier_id, item_id) %>%\n",
    "  summarise(across(everything(), mean, na.rm = TRUE), .groups = \"drop\") %>%\n",
    "  rename(avg_fulfilled_rate = fulfilled_binary)"
   ]
  },
  {
   "cell_type": "markdown",
   "id": "c70c5560",
   "metadata": {},
   "source": [
    "Now with this dataframe I'll create a multilinear regression model."
   ]
  },
  {
   "cell_type": "code",
   "execution_count": 80,
   "id": "28d401d7",
   "metadata": {
    "vscode": {
     "languageId": "r"
    }
   },
   "outputs": [
    {
     "data": {
      "text/plain": [
       "\n",
       "Call:\n",
       "lm(formula = avg_quantity_on_hand ~ item_failure_rate + item_restock_weight + \n",
       "    supplier_failure_rate + supplier_fulfillment_weight + avg_backlog + \n",
       "    stockouts, data = supplier_item_df)\n",
       "\n",
       "Residuals:\n",
       "   Min     1Q Median     3Q    Max \n",
       "-5.087 -1.801 -0.134  1.781  6.699 \n",
       "\n",
       "Coefficients:\n",
       "                             Estimate Std. Error t value Pr(>|t|)    \n",
       "(Intercept)                  7.185813   0.974664   7.373 6.78e-11 ***\n",
       "item_failure_rate           -0.953455   1.678082  -0.568   0.5713    \n",
       "item_restock_weight          3.160504   0.187999  16.811  < 2e-16 ***\n",
       "supplier_failure_rate        0.319299   1.821691   0.175   0.8612    \n",
       "supplier_fulfillment_weight -0.353410   0.165881  -2.131   0.0358 *  \n",
       "avg_backlog                  0.017255   0.007559   2.283   0.0247 *  \n",
       "stockouts                   -0.027075   0.005948  -4.552 1.61e-05 ***\n",
       "---\n",
       "Signif. codes:  0 '***' 0.001 '**' 0.01 '*' 0.05 '.' 0.1 ' ' 1\n",
       "\n",
       "Residual standard error: 2.352 on 93 degrees of freedom\n",
       "Multiple R-squared:  0.9114,\tAdjusted R-squared:  0.9056 \n",
       "F-statistic: 159.4 on 6 and 93 DF,  p-value: < 2.2e-16\n"
      ]
     },
     "metadata": {},
     "output_type": "display_data"
    }
   ],
   "source": [
    "model_qty_lm <- lm(\n",
    "  avg_quantity_on_hand ~ item_failure_rate +\n",
    "                         item_restock_weight +\n",
    "                         supplier_failure_rate +\n",
    "                         supplier_fulfillment_weight +\n",
    "                         avg_backlog + stockouts,\n",
    "  data = supplier_item_df\n",
    ")\n",
    "summary(model_qty_lm)"
   ]
  },
  {
   "cell_type": "markdown",
   "id": "cd955515",
   "metadata": {},
   "source": [
    "`item_restock_weight` seems to be the most influential and most significant by quite a margin. \n",
    "\n",
    "As `avg_quantity_on_hand` showed a nonlinear shape in predicting fulfillment outcomes - I'll also investigate these variables with polynomial terms."
   ]
  },
  {
   "cell_type": "code",
   "execution_count": 81,
   "id": "9e585ced",
   "metadata": {
    "vscode": {
     "languageId": "r"
    }
   },
   "outputs": [
    {
     "data": {
      "text/plain": [
       "\n",
       "Call:\n",
       "lm(formula = avg_quantity_on_hand ~ poly(item_failure_rate, 2) + \n",
       "    poly(item_restock_weight, 2) + poly(supplier_failure_rate, \n",
       "    2) + poly(supplier_fulfillment_weight, 2) + avg_backlog + \n",
       "    stockouts, data = supplier_item_df)\n",
       "\n",
       "Residuals:\n",
       "    Min      1Q  Median      3Q     Max \n",
       "-3.9919 -1.3601  0.2083  1.4041  4.2184 \n",
       "\n",
       "Coefficients:\n",
       "                                        Estimate Std. Error t value Pr(>|t|)\n",
       "(Intercept)                            17.599544   0.777747  22.629  < 2e-16\n",
       "poly(item_failure_rate, 2)1             0.128661   2.076845   0.062   0.9507\n",
       "poly(item_failure_rate, 2)2            -2.736770   2.085065  -1.313   0.1927\n",
       "poly(item_restock_weight, 2)1          65.892853   3.429523  19.213  < 2e-16\n",
       "poly(item_restock_weight, 2)2         -16.933263   2.941989  -5.756 1.21e-07\n",
       "poly(supplier_failure_rate, 2)1         0.522866   3.302500   0.158   0.8746\n",
       "poly(supplier_failure_rate, 2)2        -0.339235   2.079343  -0.163   0.8708\n",
       "poly(supplier_fulfillment_weight, 2)1  -2.893765   2.115719  -1.368   0.1748\n",
       "poly(supplier_fulfillment_weight, 2)2   5.784953   3.175424   1.822   0.0718\n",
       "avg_backlog                            -0.002198   0.007273  -0.302   0.7632\n",
       "stockouts                              -0.004476   0.006445  -0.694   0.4892\n",
       "                                         \n",
       "(Intercept)                           ***\n",
       "poly(item_failure_rate, 2)1              \n",
       "poly(item_failure_rate, 2)2              \n",
       "poly(item_restock_weight, 2)1         ***\n",
       "poly(item_restock_weight, 2)2         ***\n",
       "poly(supplier_failure_rate, 2)1          \n",
       "poly(supplier_failure_rate, 2)2          \n",
       "poly(supplier_fulfillment_weight, 2)1    \n",
       "poly(supplier_fulfillment_weight, 2)2 .  \n",
       "avg_backlog                              \n",
       "stockouts                                \n",
       "---\n",
       "Signif. codes:  0 '***' 0.001 '**' 0.01 '*' 0.05 '.' 0.1 ' ' 1\n",
       "\n",
       "Residual standard error: 2.008 on 89 degrees of freedom\n",
       "Multiple R-squared:  0.9382,\tAdjusted R-squared:  0.9312 \n",
       "F-statistic:   135 on 10 and 89 DF,  p-value: < 2.2e-16\n"
      ]
     },
     "metadata": {},
     "output_type": "display_data"
    }
   ],
   "source": [
    "model_qty_poly <- lm(\n",
    "  avg_quantity_on_hand ~ poly(item_failure_rate, 2) +\n",
    "                         poly(item_restock_weight, 2) +\n",
    "                         poly(supplier_failure_rate, 2) +\n",
    "                         poly(supplier_fulfillment_weight, 2) +\n",
    "                         avg_backlog + stockouts,\n",
    "  data = supplier_item_df\n",
    ")\n",
    "summary(model_qty_poly)"
   ]
  },
  {
   "cell_type": "markdown",
   "id": "4c46e8a0",
   "metadata": {},
   "source": [
    "This confirms nonlinear influence (poly2 term significant)"
   ]
  },
  {
   "cell_type": "code",
   "execution_count": 79,
   "id": "233e1234",
   "metadata": {
    "vscode": {
     "languageId": "r"
    }
   },
   "outputs": [
    {
     "data": {
      "text/html": [
       "<table class=\"dataframe\">\n",
       "<caption>A matrix: 6 × 2 of type dbl</caption>\n",
       "<thead>\n",
       "\t<tr><th></th><th scope=col>%IncMSE</th><th scope=col>IncNodePurity</th></tr>\n",
       "</thead>\n",
       "<tbody>\n",
       "\t<tr><th scope=row>item_failure_rate</th><td> 2.4865769</td><td> 158.19938</td></tr>\n",
       "\t<tr><th scope=row>item_restock_weight</th><td>26.5147029</td><td>2105.10730</td></tr>\n",
       "\t<tr><th scope=row>supplier_failure_rate</th><td> 0.5875097</td><td>  73.89255</td></tr>\n",
       "\t<tr><th scope=row>supplier_fulfillment_weight</th><td> 0.1817112</td><td>  77.30215</td></tr>\n",
       "\t<tr><th scope=row>avg_backlog</th><td>13.7977028</td><td>1059.03728</td></tr>\n",
       "\t<tr><th scope=row>stockouts</th><td>26.1937337</td><td>2180.83086</td></tr>\n",
       "</tbody>\n",
       "</table>\n"
      ],
      "text/latex": [
       "A matrix: 6 × 2 of type dbl\n",
       "\\begin{tabular}{r|ll}\n",
       "  & \\%IncMSE & IncNodePurity\\\\\n",
       "\\hline\n",
       "\titem\\_failure\\_rate &  2.4865769 &  158.19938\\\\\n",
       "\titem\\_restock\\_weight & 26.5147029 & 2105.10730\\\\\n",
       "\tsupplier\\_failure\\_rate &  0.5875097 &   73.89255\\\\\n",
       "\tsupplier\\_fulfillment\\_weight &  0.1817112 &   77.30215\\\\\n",
       "\tavg\\_backlog & 13.7977028 & 1059.03728\\\\\n",
       "\tstockouts & 26.1937337 & 2180.83086\\\\\n",
       "\\end{tabular}\n"
      ],
      "text/markdown": [
       "\n",
       "A matrix: 6 × 2 of type dbl\n",
       "\n",
       "| <!--/--> | %IncMSE | IncNodePurity |\n",
       "|---|---|---|\n",
       "| item_failure_rate |  2.4865769 |  158.19938 |\n",
       "| item_restock_weight | 26.5147029 | 2105.10730 |\n",
       "| supplier_failure_rate |  0.5875097 |   73.89255 |\n",
       "| supplier_fulfillment_weight |  0.1817112 |   77.30215 |\n",
       "| avg_backlog | 13.7977028 | 1059.03728 |\n",
       "| stockouts | 26.1937337 | 2180.83086 |\n",
       "\n"
      ],
      "text/plain": [
       "                            %IncMSE    IncNodePurity\n",
       "item_failure_rate            2.4865769  158.19938   \n",
       "item_restock_weight         26.5147029 2105.10730   \n",
       "supplier_failure_rate        0.5875097   73.89255   \n",
       "supplier_fulfillment_weight  0.1817112   77.30215   \n",
       "avg_backlog                 13.7977028 1059.03728   \n",
       "stockouts                   26.1937337 2180.83086   "
      ]
     },
     "metadata": {},
     "output_type": "display_data"
    }
   ],
   "source": [
    "rf_model <- randomForest(\n",
    "  avg_quantity_on_hand ~ item_failure_rate +\n",
    "                         item_restock_weight +\n",
    "                         supplier_failure_rate +\n",
    "                         supplier_fulfillment_weight +\n",
    "                         avg_backlog + stockouts,\n",
    "  data = supplier_item_df,\n",
    "  importance = TRUE\n",
    ")\n",
    "importance(rf_model)\n"
   ]
  },
  {
   "cell_type": "markdown",
   "id": "5ba979a6",
   "metadata": {},
   "source": [
    "`item_restock_weight` is #1 in %IncMSE and #2 IncNodePurity — with `stockouts` being the other standout. `stockouts` has also showed significance in predicting `avg_quantity_on_hand` in the previous models.\n",
    "\n",
    "I think it's fair to say at this point that there seems to be causal chains:\n",
    "\n",
    "`item_restock_weight` ↑ → `avg_quantity_on_hand` ↑ → `fulfillment` ↑\n",
    "\n",
    "`stockouts` ↑ → `avg_quantity_on_hand` ↓ → `fulfillment` ↓"
   ]
  },
  {
   "cell_type": "markdown",
   "id": "6221f3be",
   "metadata": {},
   "source": [
    "## Export\n",
    "\n",
    "If I want to use more visualisation focused tools like PowerBI or Tableau it may save me some PowerQuery to export my dataframes from this notebook."
   ]
  },
  {
   "cell_type": "code",
   "execution_count": 84,
   "id": "b1d57860",
   "metadata": {
    "vscode": {
     "languageId": "r"
    }
   },
   "outputs": [],
   "source": [
    "write.csv(supplier_item_df, \"data\\\\supplier_item_df.csv\", row.names = FALSE)\n",
    "write.csv(order_item_final, \"data\\\\order_item_final.csv\", row.names = FALSE)"
   ]
  }
 ],
 "metadata": {
  "kernelspec": {
   "display_name": "R",
   "language": "R",
   "name": "ir"
  },
  "language_info": {
   "codemirror_mode": "r",
   "file_extension": ".r",
   "mimetype": "text/x-r-source",
   "name": "R",
   "pygments_lexer": "r",
   "version": "4.5.0"
  }
 },
 "nbformat": 4,
 "nbformat_minor": 5
}
